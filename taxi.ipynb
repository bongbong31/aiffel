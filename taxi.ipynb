{
 "cells": [
  {
   "cell_type": "code",
   "execution_count": 282,
   "id": "65f7dec1",
   "metadata": {},
   "outputs": [],
   "source": [
    "import pandas as pd\n",
    "import numpy as np\n",
    "import matplotlib.pyplot as plt\n",
    "import seaborn as sns"
   ]
  },
  {
   "cell_type": "code",
   "execution_count": 283,
   "id": "50b92179",
   "metadata": {},
   "outputs": [],
   "source": [
    "trip_df = pd.read_csv('../data/trip.csv')"
   ]
  },
  {
   "cell_type": "markdown",
   "id": "3ee4f30e",
   "metadata": {},
   "source": [
    "##### Step 1"
   ]
  },
  {
   "cell_type": "markdown",
   "id": "3e571d04",
   "metadata": {},
   "source": [
    "### check the information"
   ]
  },
  {
   "cell_type": "code",
   "execution_count": 284,
   "id": "a867a473",
   "metadata": {},
   "outputs": [
    {
     "data": {
      "text/plain": [
       "(22701, 9)"
      ]
     },
     "execution_count": 284,
     "metadata": {},
     "output_type": "execute_result"
    }
   ],
   "source": [
    "trip_df.shape"
   ]
  },
  {
   "cell_type": "code",
   "execution_count": 285,
   "id": "bce0d3cf",
   "metadata": {},
   "outputs": [
    {
     "name": "stdout",
     "output_type": "stream",
     "text": [
      "<class 'pandas.core.frame.DataFrame'>\n",
      "RangeIndex: 22701 entries, 0 to 22700\n",
      "Data columns (total 9 columns):\n",
      " #   Column                 Non-Null Count  Dtype  \n",
      "---  ------                 --------------  -----  \n",
      " 0   passenger_name         22701 non-null  object \n",
      " 1   tpep_pickup_datetime   22701 non-null  object \n",
      " 2   tpep_dropoff_datetime  22701 non-null  object \n",
      " 3   payment_method         22701 non-null  object \n",
      " 4   passenger_count        22701 non-null  int64  \n",
      " 5   trip_distance          22701 non-null  float64\n",
      " 6   fare_amount            22698 non-null  float64\n",
      " 7   tip_amount             22701 non-null  float64\n",
      " 8   tolls_amount           22701 non-null  float64\n",
      "dtypes: float64(4), int64(1), object(4)\n",
      "memory usage: 1.6+ MB\n"
     ]
    }
   ],
   "source": [
    "trip_df.info()"
   ]
  },
  {
   "cell_type": "code",
   "execution_count": 286,
   "id": "85941193",
   "metadata": {},
   "outputs": [
    {
     "data": {
      "text/html": [
       "<div>\n",
       "<style scoped>\n",
       "    .dataframe tbody tr th:only-of-type {\n",
       "        vertical-align: middle;\n",
       "    }\n",
       "\n",
       "    .dataframe tbody tr th {\n",
       "        vertical-align: top;\n",
       "    }\n",
       "\n",
       "    .dataframe thead th {\n",
       "        text-align: right;\n",
       "    }\n",
       "</style>\n",
       "<table border=\"1\" class=\"dataframe\">\n",
       "  <thead>\n",
       "    <tr style=\"text-align: right;\">\n",
       "      <th></th>\n",
       "      <th>passenger_count</th>\n",
       "      <th>trip_distance</th>\n",
       "      <th>fare_amount</th>\n",
       "      <th>tip_amount</th>\n",
       "      <th>tolls_amount</th>\n",
       "    </tr>\n",
       "  </thead>\n",
       "  <tbody>\n",
       "    <tr>\n",
       "      <th>count</th>\n",
       "      <td>22701.000000</td>\n",
       "      <td>22701.000000</td>\n",
       "      <td>22698.000000</td>\n",
       "      <td>22701.000000</td>\n",
       "      <td>22701.000000</td>\n",
       "    </tr>\n",
       "    <tr>\n",
       "      <th>mean</th>\n",
       "      <td>1.643584</td>\n",
       "      <td>2.913400</td>\n",
       "      <td>13.024009</td>\n",
       "      <td>1.835745</td>\n",
       "      <td>0.312514</td>\n",
       "    </tr>\n",
       "    <tr>\n",
       "      <th>std</th>\n",
       "      <td>1.304942</td>\n",
       "      <td>3.653023</td>\n",
       "      <td>13.240074</td>\n",
       "      <td>2.800537</td>\n",
       "      <td>1.399153</td>\n",
       "    </tr>\n",
       "    <tr>\n",
       "      <th>min</th>\n",
       "      <td>0.000000</td>\n",
       "      <td>0.000000</td>\n",
       "      <td>-120.000000</td>\n",
       "      <td>0.000000</td>\n",
       "      <td>0.000000</td>\n",
       "    </tr>\n",
       "    <tr>\n",
       "      <th>25%</th>\n",
       "      <td>1.000000</td>\n",
       "      <td>0.990000</td>\n",
       "      <td>6.500000</td>\n",
       "      <td>0.000000</td>\n",
       "      <td>0.000000</td>\n",
       "    </tr>\n",
       "    <tr>\n",
       "      <th>50%</th>\n",
       "      <td>1.000000</td>\n",
       "      <td>1.610000</td>\n",
       "      <td>9.500000</td>\n",
       "      <td>1.350000</td>\n",
       "      <td>0.000000</td>\n",
       "    </tr>\n",
       "    <tr>\n",
       "      <th>75%</th>\n",
       "      <td>2.000000</td>\n",
       "      <td>3.060000</td>\n",
       "      <td>14.500000</td>\n",
       "      <td>2.450000</td>\n",
       "      <td>0.000000</td>\n",
       "    </tr>\n",
       "    <tr>\n",
       "      <th>max</th>\n",
       "      <td>36.000000</td>\n",
       "      <td>33.960000</td>\n",
       "      <td>999.990000</td>\n",
       "      <td>200.000000</td>\n",
       "      <td>19.100000</td>\n",
       "    </tr>\n",
       "  </tbody>\n",
       "</table>\n",
       "</div>"
      ],
      "text/plain": [
       "       passenger_count  trip_distance   fare_amount    tip_amount  \\\n",
       "count     22701.000000   22701.000000  22698.000000  22701.000000   \n",
       "mean          1.643584       2.913400     13.024009      1.835745   \n",
       "std           1.304942       3.653023     13.240074      2.800537   \n",
       "min           0.000000       0.000000   -120.000000      0.000000   \n",
       "25%           1.000000       0.990000      6.500000      0.000000   \n",
       "50%           1.000000       1.610000      9.500000      1.350000   \n",
       "75%           2.000000       3.060000     14.500000      2.450000   \n",
       "max          36.000000      33.960000    999.990000    200.000000   \n",
       "\n",
       "       tolls_amount  \n",
       "count  22701.000000  \n",
       "mean       0.312514  \n",
       "std        1.399153  \n",
       "min        0.000000  \n",
       "25%        0.000000  \n",
       "50%        0.000000  \n",
       "75%        0.000000  \n",
       "max       19.100000  "
      ]
     },
     "execution_count": 286,
     "metadata": {},
     "output_type": "execute_result"
    }
   ],
   "source": [
    "trip_df.describe()"
   ]
  },
  {
   "cell_type": "markdown",
   "id": "0195ea19",
   "metadata": {},
   "source": [
    "- 필요없는 컬럼 drop (name, tip_amount, tolls) panssener_count은 애매하니 일단 보류"
   ]
  },
  {
   "cell_type": "code",
   "execution_count": 287,
   "id": "7c49c005",
   "metadata": {},
   "outputs": [],
   "source": [
    "trip_df = trip_df.drop(['passenger_name','tip_amount','tolls_amount'],axis=1)"
   ]
  },
  {
   "cell_type": "markdown",
   "id": "e7c1976a",
   "metadata": {},
   "source": [
    "### find NULL & drop"
   ]
  },
  {
   "cell_type": "code",
   "execution_count": 288,
   "id": "070842f5",
   "metadata": {},
   "outputs": [
    {
     "data": {
      "text/html": [
       "<div>\n",
       "<style scoped>\n",
       "    .dataframe tbody tr th:only-of-type {\n",
       "        vertical-align: middle;\n",
       "    }\n",
       "\n",
       "    .dataframe tbody tr th {\n",
       "        vertical-align: top;\n",
       "    }\n",
       "\n",
       "    .dataframe thead th {\n",
       "        text-align: right;\n",
       "    }\n",
       "</style>\n",
       "<table border=\"1\" class=\"dataframe\">\n",
       "  <thead>\n",
       "    <tr style=\"text-align: right;\">\n",
       "      <th></th>\n",
       "      <th>tpep_pickup_datetime</th>\n",
       "      <th>tpep_dropoff_datetime</th>\n",
       "      <th>payment_method</th>\n",
       "      <th>passenger_count</th>\n",
       "      <th>trip_distance</th>\n",
       "      <th>fare_amount</th>\n",
       "    </tr>\n",
       "  </thead>\n",
       "  <tbody>\n",
       "    <tr>\n",
       "      <th>52</th>\n",
       "      <td>04/04/2017 4:22:03 PM</td>\n",
       "      <td>04/04/2017 4:35:30 PM</td>\n",
       "      <td>Cash</td>\n",
       "      <td>1</td>\n",
       "      <td>2.20</td>\n",
       "      <td>NaN</td>\n",
       "    </tr>\n",
       "    <tr>\n",
       "      <th>189</th>\n",
       "      <td>08/21/2017 12:40:25 PM</td>\n",
       "      <td>08/21/2017 1:12:31 PM</td>\n",
       "      <td>Debit Card</td>\n",
       "      <td>3</td>\n",
       "      <td>15.20</td>\n",
       "      <td>NaN</td>\n",
       "    </tr>\n",
       "    <tr>\n",
       "      <th>244</th>\n",
       "      <td>08/09/2017 8:32:09 AM</td>\n",
       "      <td>08/09/2017 9:31:11 AM</td>\n",
       "      <td>Cash</td>\n",
       "      <td>1</td>\n",
       "      <td>15.89</td>\n",
       "      <td>NaN</td>\n",
       "    </tr>\n",
       "  </tbody>\n",
       "</table>\n",
       "</div>"
      ],
      "text/plain": [
       "       tpep_pickup_datetime  tpep_dropoff_datetime payment_method  \\\n",
       "52    04/04/2017 4:22:03 PM  04/04/2017 4:35:30 PM           Cash   \n",
       "189  08/21/2017 12:40:25 PM  08/21/2017 1:12:31 PM     Debit Card   \n",
       "244   08/09/2017 8:32:09 AM  08/09/2017 9:31:11 AM           Cash   \n",
       "\n",
       "     passenger_count  trip_distance  fare_amount  \n",
       "52                 1           2.20          NaN  \n",
       "189                3          15.20          NaN  \n",
       "244                1          15.89          NaN  "
      ]
     },
     "execution_count": 288,
     "metadata": {},
     "output_type": "execute_result"
    }
   ],
   "source": [
    "trip_df[trip_df.isnull().any(axis=1)]"
   ]
  },
  {
   "cell_type": "code",
   "execution_count": 289,
   "id": "27a60259",
   "metadata": {},
   "outputs": [],
   "source": [
    "trip_df = trip_df.dropna()"
   ]
  },
  {
   "cell_type": "code",
   "execution_count": 290,
   "id": "0f13ec1f",
   "metadata": {},
   "outputs": [
    {
     "data": {
      "text/html": [
       "<div>\n",
       "<style scoped>\n",
       "    .dataframe tbody tr th:only-of-type {\n",
       "        vertical-align: middle;\n",
       "    }\n",
       "\n",
       "    .dataframe tbody tr th {\n",
       "        vertical-align: top;\n",
       "    }\n",
       "\n",
       "    .dataframe thead th {\n",
       "        text-align: right;\n",
       "    }\n",
       "</style>\n",
       "<table border=\"1\" class=\"dataframe\">\n",
       "  <thead>\n",
       "    <tr style=\"text-align: right;\">\n",
       "      <th></th>\n",
       "      <th>tpep_pickup_datetime</th>\n",
       "      <th>tpep_dropoff_datetime</th>\n",
       "      <th>payment_method</th>\n",
       "      <th>passenger_count</th>\n",
       "      <th>trip_distance</th>\n",
       "      <th>fare_amount</th>\n",
       "    </tr>\n",
       "  </thead>\n",
       "  <tbody>\n",
       "  </tbody>\n",
       "</table>\n",
       "</div>"
      ],
      "text/plain": [
       "Empty DataFrame\n",
       "Columns: [tpep_pickup_datetime, tpep_dropoff_datetime, payment_method, passenger_count, trip_distance, fare_amount]\n",
       "Index: []"
      ]
     },
     "execution_count": 290,
     "metadata": {},
     "output_type": "execute_result"
    }
   ],
   "source": [
    "trip_df[trip_df.isnull().any(axis=1)]"
   ]
  },
  {
   "cell_type": "markdown",
   "id": "ddb9b414",
   "metadata": {},
   "source": [
    "### find distance <= 0 & fare_amout <= 0 & drop"
   ]
  },
  {
   "cell_type": "code",
   "execution_count": 291,
   "id": "8de05763",
   "metadata": {},
   "outputs": [
    {
     "data": {
      "text/plain": [
       "tpep_pickup_datetime     164\n",
       "tpep_dropoff_datetime    164\n",
       "payment_method           164\n",
       "passenger_count          164\n",
       "trip_distance            164\n",
       "fare_amount              164\n",
       "dtype: int64"
      ]
     },
     "execution_count": 291,
     "metadata": {},
     "output_type": "execute_result"
    }
   ],
   "source": [
    "trip_df[(trip_df['trip_distance']<=0) | (trip_df['fare_amount']<=0)].count()"
   ]
  },
  {
   "cell_type": "code",
   "execution_count": 292,
   "id": "675487ad",
   "metadata": {},
   "outputs": [],
   "source": [
    "trip_df = trip_df[(trip_df['trip_distance']>0) & (trip_df['fare_amount']>0)]"
   ]
  },
  {
   "cell_type": "code",
   "execution_count": 293,
   "id": "27eceb3b",
   "metadata": {},
   "outputs": [
    {
     "data": {
      "text/plain": [
       "tpep_pickup_datetime     0\n",
       "tpep_dropoff_datetime    0\n",
       "payment_method           0\n",
       "passenger_count          0\n",
       "trip_distance            0\n",
       "fare_amount              0\n",
       "dtype: int64"
      ]
     },
     "execution_count": 293,
     "metadata": {},
     "output_type": "execute_result"
    }
   ],
   "source": [
    "trip_df[(trip_df['trip_distance']<=0) | (trip_df['fare_amount']<=0)].count()"
   ]
  },
  {
   "cell_type": "code",
   "execution_count": 294,
   "id": "ff9e18e2",
   "metadata": {},
   "outputs": [
    {
     "data": {
      "text/html": [
       "<div>\n",
       "<style scoped>\n",
       "    .dataframe tbody tr th:only-of-type {\n",
       "        vertical-align: middle;\n",
       "    }\n",
       "\n",
       "    .dataframe tbody tr th {\n",
       "        vertical-align: top;\n",
       "    }\n",
       "\n",
       "    .dataframe thead th {\n",
       "        text-align: right;\n",
       "    }\n",
       "</style>\n",
       "<table border=\"1\" class=\"dataframe\">\n",
       "  <thead>\n",
       "    <tr style=\"text-align: right;\">\n",
       "      <th></th>\n",
       "      <th>passenger_count</th>\n",
       "      <th>trip_distance</th>\n",
       "      <th>fare_amount</th>\n",
       "    </tr>\n",
       "  </thead>\n",
       "  <tbody>\n",
       "    <tr>\n",
       "      <th>count</th>\n",
       "      <td>22534.000000</td>\n",
       "      <td>22534.000000</td>\n",
       "      <td>22534.000000</td>\n",
       "    </tr>\n",
       "    <tr>\n",
       "      <th>mean</th>\n",
       "      <td>1.645070</td>\n",
       "      <td>2.932131</td>\n",
       "      <td>12.974022</td>\n",
       "    </tr>\n",
       "    <tr>\n",
       "      <th>std</th>\n",
       "      <td>1.306343</td>\n",
       "      <td>3.654376</td>\n",
       "      <td>12.662178</td>\n",
       "    </tr>\n",
       "    <tr>\n",
       "      <th>min</th>\n",
       "      <td>0.000000</td>\n",
       "      <td>0.010000</td>\n",
       "      <td>0.010000</td>\n",
       "    </tr>\n",
       "    <tr>\n",
       "      <th>25%</th>\n",
       "      <td>1.000000</td>\n",
       "      <td>1.000000</td>\n",
       "      <td>6.500000</td>\n",
       "    </tr>\n",
       "    <tr>\n",
       "      <th>50%</th>\n",
       "      <td>1.000000</td>\n",
       "      <td>1.630000</td>\n",
       "      <td>9.500000</td>\n",
       "    </tr>\n",
       "    <tr>\n",
       "      <th>75%</th>\n",
       "      <td>2.000000</td>\n",
       "      <td>3.090000</td>\n",
       "      <td>14.500000</td>\n",
       "    </tr>\n",
       "    <tr>\n",
       "      <th>max</th>\n",
       "      <td>36.000000</td>\n",
       "      <td>33.960000</td>\n",
       "      <td>999.990000</td>\n",
       "    </tr>\n",
       "  </tbody>\n",
       "</table>\n",
       "</div>"
      ],
      "text/plain": [
       "       passenger_count  trip_distance   fare_amount\n",
       "count     22534.000000   22534.000000  22534.000000\n",
       "mean          1.645070       2.932131     12.974022\n",
       "std           1.306343       3.654376     12.662178\n",
       "min           0.000000       0.010000      0.010000\n",
       "25%           1.000000       1.000000      6.500000\n",
       "50%           1.000000       1.630000      9.500000\n",
       "75%           2.000000       3.090000     14.500000\n",
       "max          36.000000      33.960000    999.990000"
      ]
     },
     "execution_count": 294,
     "metadata": {},
     "output_type": "execute_result"
    }
   ],
   "source": [
    "trip_df.describe()"
   ]
  },
  {
   "cell_type": "markdown",
   "id": "849efd11",
   "metadata": {},
   "source": [
    "### find [distance & fare_amount] outlier\n",
    "\n",
    "- check distance's outlier\n",
    "- check fare amount's outlier\n",
    "- compare fare_amount and trip_distance"
   ]
  },
  {
   "cell_type": "code",
   "execution_count": 295,
   "id": "f8da0b13",
   "metadata": {},
   "outputs": [],
   "source": [
    "# quantile()\n",
    "q1 = trip_df['trip_distance'].quantile(0.25)\n",
    "q3 = trip_df['trip_distance'].quantile(0.75)\n",
    "iqr = q3-q1"
   ]
  },
  {
   "cell_type": "code",
   "execution_count": 296,
   "id": "98cf59be",
   "metadata": {},
   "outputs": [
    {
     "data": {
      "text/plain": [
       "0        False\n",
       "1        False\n",
       "2        False\n",
       "3        False\n",
       "4        False\n",
       "         ...  \n",
       "22696    False\n",
       "22697     True\n",
       "22698    False\n",
       "22699    False\n",
       "22700    False\n",
       "Name: trip_distance, Length: 22534, dtype: bool"
      ]
     },
     "execution_count": 296,
     "metadata": {},
     "output_type": "execute_result"
    }
   ],
   "source": [
    "trip_df['trip_distance']>q3+1.5*iqr"
   ]
  },
  {
   "cell_type": "code",
   "execution_count": 297,
   "id": "b9be83d7",
   "metadata": {},
   "outputs": [],
   "source": [
    "out_v = trip_df[trip_df['trip_distance']>q3+1.5*iqr].index"
   ]
  },
  {
   "cell_type": "code",
   "execution_count": 298,
   "id": "22b6438b",
   "metadata": {},
   "outputs": [],
   "source": [
    "trip_df.drop(out_v, inplace=True)"
   ]
  },
  {
   "cell_type": "code",
   "execution_count": 299,
   "id": "d690f08d",
   "metadata": {},
   "outputs": [
    {
     "data": {
      "text/plain": [
       "<AxesSubplot:xlabel='trip_distance', ylabel='fare_amount'>"
      ]
     },
     "execution_count": 299,
     "metadata": {},
     "output_type": "execute_result"
    },
    {
     "data": {
      "image/png": "[encoded data removed]",
      "text/plain": [
       "<Figure size 432x288 with 1 Axes>"
      ]
     },
     "metadata": {
      "needs_background": "light"
     },
     "output_type": "display_data"
    }
   ],
   "source": [
    "sns.scatterplot(x=trip_df['trip_distance'], y=trip_df['fare_amount'])"
   ]
  },
  {
   "cell_type": "code",
   "execution_count": 300,
   "id": "f126bd46",
   "metadata": {},
   "outputs": [],
   "source": [
    "Q1 = trip_df['fare_amount'].quantile(0.25)\n",
    "Q3 = trip_df['fare_amount'].quantile(0.75)\n",
    "Iqr = q3-q1"
   ]
  },
  {
   "cell_type": "code",
   "execution_count": 301,
   "id": "ab4e969b",
   "metadata": {},
   "outputs": [
    {
     "data": {
      "text/plain": [
       "0        False\n",
       "1         True\n",
       "2        False\n",
       "3         True\n",
       "4         True\n",
       "         ...  \n",
       "22695    False\n",
       "22696    False\n",
       "22698    False\n",
       "22699    False\n",
       "22700    False\n",
       "Name: fare_amount, Length: 20047, dtype: bool"
      ]
     },
     "execution_count": 301,
     "metadata": {},
     "output_type": "execute_result"
    }
   ],
   "source": [
    "trip_df['fare_amount']> Q3+1.5*Iqr"
   ]
  },
  {
   "cell_type": "code",
   "execution_count": 302,
   "id": "df6ac1e0",
   "metadata": {},
   "outputs": [],
   "source": [
    "out_v_a = trip_df[trip_df['fare_amount']> Q3+1.5*Iqr].index"
   ]
  },
  {
   "cell_type": "code",
   "execution_count": 303,
   "id": "61f8f4a0",
   "metadata": {},
   "outputs": [],
   "source": [
    "trip_df.drop(out_v_a, inplace=True)"
   ]
  },
  {
   "cell_type": "code",
   "execution_count": 304,
   "id": "0294f8e0",
   "metadata": {},
   "outputs": [
    {
     "data": {
      "text/html": [
       "<div>\n",
       "<style scoped>\n",
       "    .dataframe tbody tr th:only-of-type {\n",
       "        vertical-align: middle;\n",
       "    }\n",
       "\n",
       "    .dataframe tbody tr th {\n",
       "        vertical-align: top;\n",
       "    }\n",
       "\n",
       "    .dataframe thead th {\n",
       "        text-align: right;\n",
       "    }\n",
       "</style>\n",
       "<table border=\"1\" class=\"dataframe\">\n",
       "  <thead>\n",
       "    <tr style=\"text-align: right;\">\n",
       "      <th></th>\n",
       "      <th>passenger_count</th>\n",
       "      <th>trip_distance</th>\n",
       "      <th>fare_amount</th>\n",
       "    </tr>\n",
       "  </thead>\n",
       "  <tbody>\n",
       "    <tr>\n",
       "      <th>count</th>\n",
       "      <td>17552.000000</td>\n",
       "      <td>17552.000000</td>\n",
       "      <td>17552.000000</td>\n",
       "    </tr>\n",
       "    <tr>\n",
       "      <th>mean</th>\n",
       "      <td>1.637192</td>\n",
       "      <td>1.514843</td>\n",
       "      <td>8.498263</td>\n",
       "    </tr>\n",
       "    <tr>\n",
       "      <th>std</th>\n",
       "      <td>1.284978</td>\n",
       "      <td>0.861065</td>\n",
       "      <td>3.104233</td>\n",
       "    </tr>\n",
       "    <tr>\n",
       "      <th>min</th>\n",
       "      <td>0.000000</td>\n",
       "      <td>0.010000</td>\n",
       "      <td>0.010000</td>\n",
       "    </tr>\n",
       "    <tr>\n",
       "      <th>25%</th>\n",
       "      <td>1.000000</td>\n",
       "      <td>0.880000</td>\n",
       "      <td>6.000000</td>\n",
       "    </tr>\n",
       "    <tr>\n",
       "      <th>50%</th>\n",
       "      <td>1.000000</td>\n",
       "      <td>1.310000</td>\n",
       "      <td>8.000000</td>\n",
       "    </tr>\n",
       "    <tr>\n",
       "      <th>75%</th>\n",
       "      <td>2.000000</td>\n",
       "      <td>2.000000</td>\n",
       "      <td>10.500000</td>\n",
       "    </tr>\n",
       "    <tr>\n",
       "      <th>max</th>\n",
       "      <td>6.000000</td>\n",
       "      <td>6.200000</td>\n",
       "      <td>15.500000</td>\n",
       "    </tr>\n",
       "  </tbody>\n",
       "</table>\n",
       "</div>"
      ],
      "text/plain": [
       "       passenger_count  trip_distance   fare_amount\n",
       "count     17552.000000   17552.000000  17552.000000\n",
       "mean          1.637192       1.514843      8.498263\n",
       "std           1.284978       0.861065      3.104233\n",
       "min           0.000000       0.010000      0.010000\n",
       "25%           1.000000       0.880000      6.000000\n",
       "50%           1.000000       1.310000      8.000000\n",
       "75%           2.000000       2.000000     10.500000\n",
       "max           6.000000       6.200000     15.500000"
      ]
     },
     "execution_count": 304,
     "metadata": {},
     "output_type": "execute_result"
    }
   ],
   "source": [
    "trip_df.describe()"
   ]
  },
  {
   "cell_type": "code",
   "execution_count": 305,
   "id": "82124e25",
   "metadata": {},
   "outputs": [
    {
     "data": {
      "text/plain": [
       "<AxesSubplot:xlabel='trip_distance', ylabel='fare_amount'>"
      ]
     },
     "execution_count": 305,
     "metadata": {},
     "output_type": "execute_result"
    },
    {
     "data": {
      "image/png": "[encoded data removed]",
      "text/plain": [
       "<Figure size 432x288 with 1 Axes>"
      ]
     },
     "metadata": {
      "needs_background": "light"
     },
     "output_type": "display_data"
    }
   ],
   "source": [
    "sns.scatterplot(x=trip_df['trip_distance'], y=trip_df['fare_amount'])"
   ]
  },
  {
   "cell_type": "markdown",
   "id": "1ed6702b",
   "metadata": {},
   "source": [
    "- scatterplot을 봤을때 trip_distance가 높을때 fare_amount가 낮은 값들 drop"
   ]
  },
  {
   "cell_type": "code",
   "execution_count": 306,
   "id": "5c112dad",
   "metadata": {},
   "outputs": [
    {
     "data": {
      "text/plain": [
       "19030"
      ]
     },
     "execution_count": 306,
     "metadata": {},
     "output_type": "execute_result"
    }
   ],
   "source": [
    "trip_df[['trip_distance','fare_amount']].sort_values(by='trip_distance', ascending=False).index[0]"
   ]
  },
  {
   "cell_type": "code",
   "execution_count": 307,
   "id": "1a5c3abf",
   "metadata": {},
   "outputs": [],
   "source": [
    "trip_df.drop(19030, inplace=True)"
   ]
  },
  {
   "cell_type": "code",
   "execution_count": 308,
   "id": "108118d0",
   "metadata": {},
   "outputs": [
    {
     "data": {
      "text/html": [
       "<div>\n",
       "<style scoped>\n",
       "    .dataframe tbody tr th:only-of-type {\n",
       "        vertical-align: middle;\n",
       "    }\n",
       "\n",
       "    .dataframe tbody tr th {\n",
       "        vertical-align: top;\n",
       "    }\n",
       "\n",
       "    .dataframe thead th {\n",
       "        text-align: right;\n",
       "    }\n",
       "</style>\n",
       "<table border=\"1\" class=\"dataframe\">\n",
       "  <thead>\n",
       "    <tr style=\"text-align: right;\">\n",
       "      <th></th>\n",
       "      <th>trip_distance</th>\n",
       "      <th>fare_amount</th>\n",
       "    </tr>\n",
       "  </thead>\n",
       "  <tbody>\n",
       "    <tr>\n",
       "      <th>3817</th>\n",
       "      <td>5.20</td>\n",
       "      <td>15.5</td>\n",
       "    </tr>\n",
       "    <tr>\n",
       "      <th>15790</th>\n",
       "      <td>5.10</td>\n",
       "      <td>15.5</td>\n",
       "    </tr>\n",
       "    <tr>\n",
       "      <th>11374</th>\n",
       "      <td>5.00</td>\n",
       "      <td>15.5</td>\n",
       "    </tr>\n",
       "    <tr>\n",
       "      <th>1485</th>\n",
       "      <td>5.00</td>\n",
       "      <td>15.5</td>\n",
       "    </tr>\n",
       "    <tr>\n",
       "      <th>10074</th>\n",
       "      <td>4.90</td>\n",
       "      <td>15.0</td>\n",
       "    </tr>\n",
       "    <tr>\n",
       "      <th>...</th>\n",
       "      <td>...</td>\n",
       "      <td>...</td>\n",
       "    </tr>\n",
       "    <tr>\n",
       "      <th>14470</th>\n",
       "      <td>0.02</td>\n",
       "      <td>2.5</td>\n",
       "    </tr>\n",
       "    <tr>\n",
       "      <th>325</th>\n",
       "      <td>0.02</td>\n",
       "      <td>2.5</td>\n",
       "    </tr>\n",
       "    <tr>\n",
       "      <th>9190</th>\n",
       "      <td>0.01</td>\n",
       "      <td>2.5</td>\n",
       "    </tr>\n",
       "    <tr>\n",
       "      <th>5503</th>\n",
       "      <td>0.01</td>\n",
       "      <td>2.5</td>\n",
       "    </tr>\n",
       "    <tr>\n",
       "      <th>2987</th>\n",
       "      <td>0.01</td>\n",
       "      <td>2.5</td>\n",
       "    </tr>\n",
       "  </tbody>\n",
       "</table>\n",
       "<p>17551 rows × 2 columns</p>\n",
       "</div>"
      ],
      "text/plain": [
       "       trip_distance  fare_amount\n",
       "3817            5.20         15.5\n",
       "15790           5.10         15.5\n",
       "11374           5.00         15.5\n",
       "1485            5.00         15.5\n",
       "10074           4.90         15.0\n",
       "...              ...          ...\n",
       "14470           0.02          2.5\n",
       "325             0.02          2.5\n",
       "9190            0.01          2.5\n",
       "5503            0.01          2.5\n",
       "2987            0.01          2.5\n",
       "\n",
       "[17551 rows x 2 columns]"
      ]
     },
     "execution_count": 308,
     "metadata": {},
     "output_type": "execute_result"
    }
   ],
   "source": [
    "trip_df[['trip_distance','fare_amount']].sort_values(by='trip_distance', ascending=False)"
   ]
  },
  {
   "cell_type": "code",
   "execution_count": 309,
   "id": "5fd24e44",
   "metadata": {},
   "outputs": [
    {
     "data": {
      "text/plain": [
       "tpep_pickup_datetime     13\n",
       "tpep_dropoff_datetime    13\n",
       "payment_method           13\n",
       "passenger_count          13\n",
       "trip_distance            13\n",
       "fare_amount              13\n",
       "dtype: int64"
      ]
     },
     "execution_count": 309,
     "metadata": {},
     "output_type": "execute_result"
    }
   ],
   "source": [
    "trip_df[(trip_df['fare_amount']<4) & (trip_df['trip_distance']>1)].count()"
   ]
  },
  {
   "cell_type": "markdown",
   "id": "3c5355b9",
   "metadata": {},
   "source": [
    "- 13개 뿐이고 거슬리는 값들이기에 그냥 삭제"
   ]
  },
  {
   "cell_type": "code",
   "execution_count": 310,
   "id": "365d1eb6",
   "metadata": {},
   "outputs": [],
   "source": [
    "trip_df = trip_df[(trip_df['fare_amount']>=4) | (trip_df['trip_distance']<=1)]"
   ]
  },
  {
   "cell_type": "code",
   "execution_count": 311,
   "id": "0498c916",
   "metadata": {},
   "outputs": [
    {
     "data": {
      "text/plain": [
       "<AxesSubplot:xlabel='trip_distance', ylabel='fare_amount'>"
      ]
     },
     "execution_count": 311,
     "metadata": {},
     "output_type": "execute_result"
    },
    {
     "data": {
      "image/png": "[encoded data removed]",
      "text/plain": [
       "<Figure size 432x288 with 1 Axes>"
      ]
     },
     "metadata": {
      "needs_background": "light"
     },
     "output_type": "display_data"
    }
   ],
   "source": [
    "sns.scatterplot(x=trip_df['trip_distance'], y=trip_df['fare_amount'])"
   ]
  },
  {
   "cell_type": "markdown",
   "id": "4ebcfde9",
   "metadata": {},
   "source": [
    "##### Step 2"
   ]
  },
  {
   "cell_type": "markdown",
   "id": "939544b9",
   "metadata": {},
   "source": [
    "- 시간, 거리, 요금 상관관계"
   ]
  },
  {
   "cell_type": "code",
   "execution_count": 312,
   "id": "ec74ea53",
   "metadata": {},
   "outputs": [],
   "source": [
    "trip_df = trip_df.reset_index(drop=True)"
   ]
  },
  {
   "cell_type": "code",
   "execution_count": 313,
   "id": "0ae467de",
   "metadata": {},
   "outputs": [],
   "source": [
    "trip_df.rename({'tpep_pickup_datetime': 'pickup_time', 'tpep_dropoff_datetime': 'drop_time'},axis=1,inplace=True)"
   ]
  },
  {
   "cell_type": "code",
   "execution_count": 314,
   "id": "943052e3",
   "metadata": {},
   "outputs": [],
   "source": [
    "trip_df['pickup_time'] = pd.to_datetime(trip_df['pickup_time'])"
   ]
  },
  {
   "cell_type": "code",
   "execution_count": 315,
   "id": "085eb3c0",
   "metadata": {},
   "outputs": [],
   "source": [
    "trip_df['drop_time'] = pd.to_datetime(trip_df['drop_time'])"
   ]
  },
  {
   "cell_type": "code",
   "execution_count": 316,
   "id": "d69c6376",
   "metadata": {},
   "outputs": [],
   "source": [
    "from datetime import datetime, timedelta"
   ]
  },
  {
   "cell_type": "code",
   "execution_count": 317,
   "id": "3cec00fa",
   "metadata": {},
   "outputs": [],
   "source": [
    "trip_df['time_diff'] = trip_df['drop_time']-trip_df['pickup_time']"
   ]
  },
  {
   "cell_type": "code",
   "execution_count": 318,
   "id": "96e99f8a",
   "metadata": {},
   "outputs": [],
   "source": [
    "trip_df['time_diff'] = trip_df['time_diff'].astype('str').str.split().str[-1]"
   ]
  },
  {
   "cell_type": "code",
   "execution_count": 319,
   "id": "0194562b",
   "metadata": {},
   "outputs": [],
   "source": [
    "trip_df['time_diff']=pd.to_timedelta(trip_df['time_diff'])"
   ]
  },
  {
   "cell_type": "code",
   "execution_count": 320,
   "id": "1d2c97bb",
   "metadata": {},
   "outputs": [],
   "source": [
    "# .dt.total_seconds()는 시간 간격을 초 단위로 변환해주는 함수"
   ]
  },
  {
   "cell_type": "code",
   "execution_count": 321,
   "id": "0740f453",
   "metadata": {},
   "outputs": [
    {
     "data": {
      "text/plain": [
       "<AxesSubplot:xlabel='trip_distance', ylabel='fare_amount'>"
      ]
     },
     "execution_count": 321,
     "metadata": {},
     "output_type": "execute_result"
    },
    {
     "data": {
      "image/png": "[encoded data removed]",
      "text/plain": [
       "<Figure size 432x288 with 1 Axes>"
      ]
     },
     "metadata": {
      "needs_background": "light"
     },
     "output_type": "display_data"
    }
   ],
   "source": [
    "sns.scatterplot(x=trip_df['trip_distance'], y=trip_df['fare_amount'], hue=trip_df['time_diff'].dt.total_seconds())"
   ]
  },
  {
   "cell_type": "markdown",
   "id": "98041e68",
   "metadata": {},
   "source": [
    "- card 통합"
   ]
  },
  {
   "cell_type": "code",
   "execution_count": 322,
   "id": "51d3c7e2",
   "metadata": {},
   "outputs": [
    {
     "data": {
      "text/html": [
       "<div>\n",
       "<style scoped>\n",
       "    .dataframe tbody tr th:only-of-type {\n",
       "        vertical-align: middle;\n",
       "    }\n",
       "\n",
       "    .dataframe tbody tr th {\n",
       "        vertical-align: top;\n",
       "    }\n",
       "\n",
       "    .dataframe thead th {\n",
       "        text-align: right;\n",
       "    }\n",
       "</style>\n",
       "<table border=\"1\" class=\"dataframe\">\n",
       "  <thead>\n",
       "    <tr style=\"text-align: right;\">\n",
       "      <th></th>\n",
       "      <th>pickup_time</th>\n",
       "      <th>drop_time</th>\n",
       "      <th>payment_method</th>\n",
       "      <th>passenger_count</th>\n",
       "      <th>trip_distance</th>\n",
       "      <th>fare_amount</th>\n",
       "      <th>time_diff</th>\n",
       "    </tr>\n",
       "  </thead>\n",
       "  <tbody>\n",
       "    <tr>\n",
       "      <th>0</th>\n",
       "      <td>2017-03-25 08:55:43</td>\n",
       "      <td>2017-03-25 09:09:47</td>\n",
       "      <td>Debit Card</td>\n",
       "      <td>6</td>\n",
       "      <td>3.34</td>\n",
       "      <td>13.0</td>\n",
       "      <td>0 days 00:14:04</td>\n",
       "    </tr>\n",
       "    <tr>\n",
       "      <th>1</th>\n",
       "      <td>2017-12-15 07:26:56</td>\n",
       "      <td>2017-12-15 07:34:08</td>\n",
       "      <td>Debit Card</td>\n",
       "      <td>1</td>\n",
       "      <td>1.00</td>\n",
       "      <td>6.5</td>\n",
       "      <td>0 days 00:07:12</td>\n",
       "    </tr>\n",
       "    <tr>\n",
       "      <th>2</th>\n",
       "      <td>2017-03-25 20:34:11</td>\n",
       "      <td>2017-03-25 20:42:11</td>\n",
       "      <td>Debit Card</td>\n",
       "      <td>6</td>\n",
       "      <td>2.30</td>\n",
       "      <td>9.0</td>\n",
       "      <td>0 days 00:08:00</td>\n",
       "    </tr>\n",
       "    <tr>\n",
       "      <th>3</th>\n",
       "      <td>2017-02-04 16:17:07</td>\n",
       "      <td>2017-02-04 16:29:14</td>\n",
       "      <td>Cash</td>\n",
       "      <td>1</td>\n",
       "      <td>1.20</td>\n",
       "      <td>9.0</td>\n",
       "      <td>0 days 00:12:07</td>\n",
       "    </tr>\n",
       "    <tr>\n",
       "      <th>4</th>\n",
       "      <td>2017-11-10 15:20:29</td>\n",
       "      <td>2017-11-10 15:40:55</td>\n",
       "      <td>Cash</td>\n",
       "      <td>1</td>\n",
       "      <td>1.60</td>\n",
       "      <td>13.0</td>\n",
       "      <td>0 days 00:20:26</td>\n",
       "    </tr>\n",
       "    <tr>\n",
       "      <th>...</th>\n",
       "      <td>...</td>\n",
       "      <td>...</td>\n",
       "      <td>...</td>\n",
       "      <td>...</td>\n",
       "      <td>...</td>\n",
       "      <td>...</td>\n",
       "      <td>...</td>\n",
       "    </tr>\n",
       "    <tr>\n",
       "      <th>17533</th>\n",
       "      <td>2017-08-10 22:20:04</td>\n",
       "      <td>2017-08-10 22:29:31</td>\n",
       "      <td>Cash</td>\n",
       "      <td>1</td>\n",
       "      <td>0.89</td>\n",
       "      <td>7.5</td>\n",
       "      <td>0 days 00:09:27</td>\n",
       "    </tr>\n",
       "    <tr>\n",
       "      <th>17534</th>\n",
       "      <td>2017-02-24 17:37:23</td>\n",
       "      <td>2017-02-24 17:40:39</td>\n",
       "      <td>Cash</td>\n",
       "      <td>3</td>\n",
       "      <td>0.61</td>\n",
       "      <td>4.0</td>\n",
       "      <td>0 days 00:03:16</td>\n",
       "    </tr>\n",
       "    <tr>\n",
       "      <th>17535</th>\n",
       "      <td>2017-09-04 14:54:14</td>\n",
       "      <td>2017-09-04 14:58:22</td>\n",
       "      <td>Debit Card</td>\n",
       "      <td>1</td>\n",
       "      <td>0.42</td>\n",
       "      <td>4.5</td>\n",
       "      <td>0 days 00:04:08</td>\n",
       "    </tr>\n",
       "    <tr>\n",
       "      <th>17536</th>\n",
       "      <td>2017-07-15 12:56:30</td>\n",
       "      <td>2017-07-15 13:08:26</td>\n",
       "      <td>Debit Card</td>\n",
       "      <td>1</td>\n",
       "      <td>2.36</td>\n",
       "      <td>10.5</td>\n",
       "      <td>0 days 00:11:56</td>\n",
       "    </tr>\n",
       "    <tr>\n",
       "      <th>17537</th>\n",
       "      <td>2017-03-02 13:02:49</td>\n",
       "      <td>2017-03-02 13:16:09</td>\n",
       "      <td>Cash</td>\n",
       "      <td>1</td>\n",
       "      <td>2.10</td>\n",
       "      <td>11.0</td>\n",
       "      <td>0 days 00:13:20</td>\n",
       "    </tr>\n",
       "  </tbody>\n",
       "</table>\n",
       "<p>17538 rows × 7 columns</p>\n",
       "</div>"
      ],
      "text/plain": [
       "              pickup_time           drop_time payment_method  passenger_count  \\\n",
       "0     2017-03-25 08:55:43 2017-03-25 09:09:47     Debit Card                6   \n",
       "1     2017-12-15 07:26:56 2017-12-15 07:34:08     Debit Card                1   \n",
       "2     2017-03-25 20:34:11 2017-03-25 20:42:11     Debit Card                6   \n",
       "3     2017-02-04 16:17:07 2017-02-04 16:29:14           Cash                1   \n",
       "4     2017-11-10 15:20:29 2017-11-10 15:40:55           Cash                1   \n",
       "...                   ...                 ...            ...              ...   \n",
       "17533 2017-08-10 22:20:04 2017-08-10 22:29:31           Cash                1   \n",
       "17534 2017-02-24 17:37:23 2017-02-24 17:40:39           Cash                3   \n",
       "17535 2017-09-04 14:54:14 2017-09-04 14:58:22     Debit Card                1   \n",
       "17536 2017-07-15 12:56:30 2017-07-15 13:08:26     Debit Card                1   \n",
       "17537 2017-03-02 13:02:49 2017-03-02 13:16:09           Cash                1   \n",
       "\n",
       "       trip_distance  fare_amount       time_diff  \n",
       "0               3.34         13.0 0 days 00:14:04  \n",
       "1               1.00          6.5 0 days 00:07:12  \n",
       "2               2.30          9.0 0 days 00:08:00  \n",
       "3               1.20          9.0 0 days 00:12:07  \n",
       "4               1.60         13.0 0 days 00:20:26  \n",
       "...              ...          ...             ...  \n",
       "17533           0.89          7.5 0 days 00:09:27  \n",
       "17534           0.61          4.0 0 days 00:03:16  \n",
       "17535           0.42          4.5 0 days 00:04:08  \n",
       "17536           2.36         10.5 0 days 00:11:56  \n",
       "17537           2.10         11.0 0 days 00:13:20  \n",
       "\n",
       "[17538 rows x 7 columns]"
      ]
     },
     "execution_count": 322,
     "metadata": {},
     "output_type": "execute_result"
    }
   ],
   "source": [
    "trip_df"
   ]
  },
  {
   "cell_type": "code",
   "execution_count": 323,
   "id": "6fb10a10",
   "metadata": {},
   "outputs": [],
   "source": [
    "trip_df.rename({'payment_method':'payment'},axis=1,inplace=True)"
   ]
  },
  {
   "cell_type": "code",
   "execution_count": 324,
   "id": "3e7132a0",
   "metadata": {},
   "outputs": [
    {
     "data": {
      "text/plain": [
       "array(['Debit Card', 'Cash', 'Credit Card'], dtype=object)"
      ]
     },
     "execution_count": 324,
     "metadata": {},
     "output_type": "execute_result"
    }
   ],
   "source": [
    "trip_df['payment'].unique()"
   ]
  },
  {
   "cell_type": "code",
   "execution_count": 325,
   "id": "2012f745",
   "metadata": {},
   "outputs": [
    {
     "data": {
      "text/plain": [
       "0        Card\n",
       "1        Card\n",
       "2        Card\n",
       "3        Cash\n",
       "4        Cash\n",
       "         ... \n",
       "17533    Cash\n",
       "17534    Cash\n",
       "17535    Card\n",
       "17536    Card\n",
       "17537    Cash\n",
       "Name: payment, Length: 17538, dtype: object"
      ]
     },
     "execution_count": 325,
     "metadata": {},
     "output_type": "execute_result"
    }
   ],
   "source": [
    "trip_df['payment'].str.split().str[-1]"
   ]
  },
  {
   "cell_type": "code",
   "execution_count": 326,
   "id": "77e40ca7",
   "metadata": {},
   "outputs": [],
   "source": [
    "trip_df['payment'] = trip_df['payment'].str.split().str[-1]"
   ]
  },
  {
   "cell_type": "code",
   "execution_count": 327,
   "id": "2b6ac249",
   "metadata": {},
   "outputs": [
    {
     "data": {
      "text/html": [
       "<div>\n",
       "<style scoped>\n",
       "    .dataframe tbody tr th:only-of-type {\n",
       "        vertical-align: middle;\n",
       "    }\n",
       "\n",
       "    .dataframe tbody tr th {\n",
       "        vertical-align: top;\n",
       "    }\n",
       "\n",
       "    .dataframe thead th {\n",
       "        text-align: right;\n",
       "    }\n",
       "</style>\n",
       "<table border=\"1\" class=\"dataframe\">\n",
       "  <thead>\n",
       "    <tr style=\"text-align: right;\">\n",
       "      <th></th>\n",
       "      <th>pickup_time</th>\n",
       "      <th>drop_time</th>\n",
       "      <th>payment</th>\n",
       "      <th>passenger_count</th>\n",
       "      <th>trip_distance</th>\n",
       "      <th>fare_amount</th>\n",
       "      <th>time_diff</th>\n",
       "    </tr>\n",
       "  </thead>\n",
       "  <tbody>\n",
       "    <tr>\n",
       "      <th>0</th>\n",
       "      <td>2017-03-25 08:55:43</td>\n",
       "      <td>2017-03-25 09:09:47</td>\n",
       "      <td>Card</td>\n",
       "      <td>6</td>\n",
       "      <td>3.34</td>\n",
       "      <td>13.0</td>\n",
       "      <td>0 days 00:14:04</td>\n",
       "    </tr>\n",
       "    <tr>\n",
       "      <th>1</th>\n",
       "      <td>2017-12-15 07:26:56</td>\n",
       "      <td>2017-12-15 07:34:08</td>\n",
       "      <td>Card</td>\n",
       "      <td>1</td>\n",
       "      <td>1.00</td>\n",
       "      <td>6.5</td>\n",
       "      <td>0 days 00:07:12</td>\n",
       "    </tr>\n",
       "    <tr>\n",
       "      <th>2</th>\n",
       "      <td>2017-03-25 20:34:11</td>\n",
       "      <td>2017-03-25 20:42:11</td>\n",
       "      <td>Card</td>\n",
       "      <td>6</td>\n",
       "      <td>2.30</td>\n",
       "      <td>9.0</td>\n",
       "      <td>0 days 00:08:00</td>\n",
       "    </tr>\n",
       "    <tr>\n",
       "      <th>3</th>\n",
       "      <td>2017-02-04 16:17:07</td>\n",
       "      <td>2017-02-04 16:29:14</td>\n",
       "      <td>Cash</td>\n",
       "      <td>1</td>\n",
       "      <td>1.20</td>\n",
       "      <td>9.0</td>\n",
       "      <td>0 days 00:12:07</td>\n",
       "    </tr>\n",
       "    <tr>\n",
       "      <th>4</th>\n",
       "      <td>2017-11-10 15:20:29</td>\n",
       "      <td>2017-11-10 15:40:55</td>\n",
       "      <td>Cash</td>\n",
       "      <td>1</td>\n",
       "      <td>1.60</td>\n",
       "      <td>13.0</td>\n",
       "      <td>0 days 00:20:26</td>\n",
       "    </tr>\n",
       "    <tr>\n",
       "      <th>...</th>\n",
       "      <td>...</td>\n",
       "      <td>...</td>\n",
       "      <td>...</td>\n",
       "      <td>...</td>\n",
       "      <td>...</td>\n",
       "      <td>...</td>\n",
       "      <td>...</td>\n",
       "    </tr>\n",
       "    <tr>\n",
       "      <th>17533</th>\n",
       "      <td>2017-08-10 22:20:04</td>\n",
       "      <td>2017-08-10 22:29:31</td>\n",
       "      <td>Cash</td>\n",
       "      <td>1</td>\n",
       "      <td>0.89</td>\n",
       "      <td>7.5</td>\n",
       "      <td>0 days 00:09:27</td>\n",
       "    </tr>\n",
       "    <tr>\n",
       "      <th>17534</th>\n",
       "      <td>2017-02-24 17:37:23</td>\n",
       "      <td>2017-02-24 17:40:39</td>\n",
       "      <td>Cash</td>\n",
       "      <td>3</td>\n",
       "      <td>0.61</td>\n",
       "      <td>4.0</td>\n",
       "      <td>0 days 00:03:16</td>\n",
       "    </tr>\n",
       "    <tr>\n",
       "      <th>17535</th>\n",
       "      <td>2017-09-04 14:54:14</td>\n",
       "      <td>2017-09-04 14:58:22</td>\n",
       "      <td>Card</td>\n",
       "      <td>1</td>\n",
       "      <td>0.42</td>\n",
       "      <td>4.5</td>\n",
       "      <td>0 days 00:04:08</td>\n",
       "    </tr>\n",
       "    <tr>\n",
       "      <th>17536</th>\n",
       "      <td>2017-07-15 12:56:30</td>\n",
       "      <td>2017-07-15 13:08:26</td>\n",
       "      <td>Card</td>\n",
       "      <td>1</td>\n",
       "      <td>2.36</td>\n",
       "      <td>10.5</td>\n",
       "      <td>0 days 00:11:56</td>\n",
       "    </tr>\n",
       "    <tr>\n",
       "      <th>17537</th>\n",
       "      <td>2017-03-02 13:02:49</td>\n",
       "      <td>2017-03-02 13:16:09</td>\n",
       "      <td>Cash</td>\n",
       "      <td>1</td>\n",
       "      <td>2.10</td>\n",
       "      <td>11.0</td>\n",
       "      <td>0 days 00:13:20</td>\n",
       "    </tr>\n",
       "  </tbody>\n",
       "</table>\n",
       "<p>17538 rows × 7 columns</p>\n",
       "</div>"
      ],
      "text/plain": [
       "              pickup_time           drop_time payment  passenger_count  \\\n",
       "0     2017-03-25 08:55:43 2017-03-25 09:09:47    Card                6   \n",
       "1     2017-12-15 07:26:56 2017-12-15 07:34:08    Card                1   \n",
       "2     2017-03-25 20:34:11 2017-03-25 20:42:11    Card                6   \n",
       "3     2017-02-04 16:17:07 2017-02-04 16:29:14    Cash                1   \n",
       "4     2017-11-10 15:20:29 2017-11-10 15:40:55    Cash                1   \n",
       "...                   ...                 ...     ...              ...   \n",
       "17533 2017-08-10 22:20:04 2017-08-10 22:29:31    Cash                1   \n",
       "17534 2017-02-24 17:37:23 2017-02-24 17:40:39    Cash                3   \n",
       "17535 2017-09-04 14:54:14 2017-09-04 14:58:22    Card                1   \n",
       "17536 2017-07-15 12:56:30 2017-07-15 13:08:26    Card                1   \n",
       "17537 2017-03-02 13:02:49 2017-03-02 13:16:09    Cash                1   \n",
       "\n",
       "       trip_distance  fare_amount       time_diff  \n",
       "0               3.34         13.0 0 days 00:14:04  \n",
       "1               1.00          6.5 0 days 00:07:12  \n",
       "2               2.30          9.0 0 days 00:08:00  \n",
       "3               1.20          9.0 0 days 00:12:07  \n",
       "4               1.60         13.0 0 days 00:20:26  \n",
       "...              ...          ...             ...  \n",
       "17533           0.89          7.5 0 days 00:09:27  \n",
       "17534           0.61          4.0 0 days 00:03:16  \n",
       "17535           0.42          4.5 0 days 00:04:08  \n",
       "17536           2.36         10.5 0 days 00:11:56  \n",
       "17537           2.10         11.0 0 days 00:13:20  \n",
       "\n",
       "[17538 rows x 7 columns]"
      ]
     },
     "execution_count": 327,
     "metadata": {},
     "output_type": "execute_result"
    }
   ],
   "source": [
    "trip_df"
   ]
  },
  {
   "cell_type": "code",
   "execution_count": null,
   "id": "a30817fa",
   "metadata": {},
   "outputs": [],
   "source": []
  }
 ],
 "metadata": {
  "kernelspec": {
   "display_name": "Python 3 (ipykernel)",
   "language": "python",
   "name": "python3"
  },
  "language_info": {
   "codemirror_mode": {
    "name": "ipython",
    "version": 3
   },
   "file_extension": ".py",
   "mimetype": "text/x-python",
   "name": "python",
   "nbconvert_exporter": "python",
   "pygments_lexer": "ipython3",
   "version": "3.9.7"
  }
 },
 "nbformat": 4,
 "nbformat_minor": 5
}
